{
 "cells": [
  {
   "cell_type": "code",
   "execution_count": 1,
   "metadata": {
    "collapsed": false
   },
   "outputs": [],
   "source": [
    "import pandas as pd\n",
    "import seaborn as sns\n",
    "from matplotlib import pyplot as plt\n",
    "%matplotlib inline"
   ]
  },
  {
   "cell_type": "code",
   "execution_count": 2,
   "metadata": {
    "collapsed": false
   },
   "outputs": [
    {
     "data": {
      "image/png": "[encoded data removed]",
      "text/plain": [
       "<matplotlib.figure.Figure at 0x7fdf5c4d49e8>"
      ]
     },
     "metadata": {},
     "output_type": "display_data"
    }
   ],
   "source": [
    "sns.set_palette(\"deep\")\n",
    "current_palette = sns.color_palette()\n",
    "sns.palplot(current_palette)"
   ]
  },
  {
   "cell_type": "code",
   "execution_count": 3,
   "metadata": {
    "collapsed": true
   },
   "outputs": [],
   "source": [
    "# Pandas Changes\n",
    "pd.options.display.max_columns = 120"
   ]
  },
  {
   "cell_type": "markdown",
   "metadata": {},
   "source": [
    "### Load Data"
   ]
  },
  {
   "cell_type": "code",
   "execution_count": null,
   "metadata": {
    "collapsed": true
   },
   "outputs": [],
   "source": [
    "# df2003 = pd.read_csv(\"2003.csv\",engine=\"python\")\n",
    "# df2004 = pd.read_csv(\"2004.csv\",engine=\"python\")\n",
    "# df2005 = pd.read_csv(\"2005.csv\",engine=\"python\")\n",
    "# df2006 = pd.read_csv(\"2006.csv\",engine=\"python\")\n",
    "# df2007 = pd.read_csv(\"2007.csv\",engine=\"python\")\n",
    "# df2008 = pd.read_csv(\"2008.csv\",engine=\"python\")\n",
    "# df2009 = pd.read_csv(\"2009.csv\",engine=\"python\")\n",
    "# df2010 = pd.read_csv(\"2010.csv\",engine=\"python\")\n",
    "# df2011 = pd.read_csv(\"2011.csv\",engine=\"python\")\n",
    "# df2012 = pd.read_csv(\"2012.csv\",engine=\"python\")\n",
    "# df2013 = pd.read_csv(\"2013.csv\",engine=\"python\")\n",
    "# df2014 = pd.read_csv(\"2014.csv\",engine=\"python\")\n",
    "# df2015 = pd.read_csv(\"2015.csv\",engine=\"python\")"
   ]
  },
  {
   "cell_type": "code",
   "execution_count": 5,
   "metadata": {
    "collapsed": false,
    "scrolled": true
   },
   "outputs": [],
   "source": [
    "# Improved loading for datetime\n",
    "df = pd.read_csv(\"2003.csv\", encoding=\"latin1\", low_memory=False,\n",
    "                     converters={\"datestop\": str, \"timestop\":str})"
   ]
  },
  {
   "cell_type": "code",
   "execution_count": 7,
   "metadata": {
    "collapsed": false
   },
   "outputs": [],
   "source": [
    "year = df[\"year\"][0]"
   ]
  },
  {
   "cell_type": "markdown",
   "metadata": {},
   "source": [
    "## Date Time Cleaning\n",
    "\n",
    "### \"stoptime\"\n",
    "Non Zero Padded,  No :\n",
    "\n",
    "* 2010\n",
    "* 2011\n",
    "* 2012\n",
    "* 2013\n",
    "* 2014\n",
    "\n",
    "Zero-Padded No :\n",
    "\n",
    "* 2005\n",
    "* 2006\n",
    "* 2007\n",
    "* 2008\n",
    "* 2009\n",
    "\n",
    "Zero-Padded w/:\n",
    "\n",
    "* 2003\n",
    "* 2004"
   ]
  },
  {
   "cell_type": "code",
   "execution_count": 8,
   "metadata": {
    "collapsed": false
   },
   "outputs": [],
   "source": [
    "def timePadding(time):\n",
    "    if len(time) < 4:\n",
    "        numMissing = 4- len(time)\n",
    "        rv = \"0\"*numMissing + time\n",
    "        return rv\n",
    "    else:\n",
    "        return time"
   ]
  },
  {
   "cell_type": "code",
   "execution_count": 9,
   "metadata": {
    "collapsed": false
   },
   "outputs": [],
   "source": [
    "if year >= 2010:\n",
    "    df[\"timestop\"] = df[\"timestop\"].apply(timePadding)\n",
    "if year <= 2004:\n",
    "    df[\"timestop\"] = df[\"timestop\"].str.replace(\":\", \"\")\n",
    "    "
   ]
  },
  {
   "cell_type": "code",
   "execution_count": 10,
   "metadata": {
    "collapsed": true
   },
   "outputs": [],
   "source": [
    "# This works for 2003\n",
    "df[\"datestop\"] = pd.to_datetime(df[\"datestop\"], format=\"%m%d%Y\")\n",
    "df[\"timestop\"] = pd.to_datetime(df[\"timestop\"], format=\"%H%M\", coerce=True)\n",
    "df[\"hour\"] = df[\"timestop\"].dt.hour\n",
    "df[\"minute\"] = df[\"timestop\"].dt.minute\n",
    "df[\"dayofyear\"] = df[\"datestop\"].dt.dayofyear\n",
    "df[\"month\"] = df[\"datestop\"].dt.month\n",
    "df[\"dayofweek\"] = df[\"datestop\"].dt.dayofweek\n",
    "df[\"weekofyear\"] = df[\"datestop\"].dt.weekofyear\n",
    "del df[\"timestop\"]"
   ]
  },
  {
   "cell_type": "code",
   "execution_count": 11,
   "metadata": {
    "collapsed": false,
    "scrolled": false
   },
   "outputs": [
    {
     "data": {
      "text/html": [
       "<div>\n",
       "<table border=\"1\" class=\"dataframe\">\n",
       "  <thead>\n",
       "    <tr style=\"text-align: right;\">\n",
       "      <th></th>\n",
       "      <th>year</th>\n",
       "      <th>pct</th>\n",
       "      <th>ser_num</th>\n",
       "      <th>datestop</th>\n",
       "      <th>recstat</th>\n",
       "      <th>inout</th>\n",
       "      <th>trhsloc</th>\n",
       "      <th>perobs</th>\n",
       "      <th>crimsusp</th>\n",
       "      <th>perstop</th>\n",
       "      <th>typeofid</th>\n",
       "      <th>explnstp</th>\n",
       "      <th>othpers</th>\n",
       "      <th>arstmade</th>\n",
       "      <th>arstoffn</th>\n",
       "      <th>sumissue</th>\n",
       "      <th>sumoffen</th>\n",
       "      <th>compyear</th>\n",
       "      <th>comppct</th>\n",
       "      <th>offunif</th>\n",
       "      <th>officrid</th>\n",
       "      <th>frisked</th>\n",
       "      <th>searched</th>\n",
       "      <th>contrabn</th>\n",
       "      <th>adtlrept</th>\n",
       "      <th>pistol</th>\n",
       "      <th>riflshot</th>\n",
       "      <th>asltweap</th>\n",
       "      <th>knifcuti</th>\n",
       "      <th>machgun</th>\n",
       "      <th>othrweap</th>\n",
       "      <th>pf_hands</th>\n",
       "      <th>pf_wall</th>\n",
       "      <th>pf_grnd</th>\n",
       "      <th>pf_drwep</th>\n",
       "      <th>pf_ptwep</th>\n",
       "      <th>pf_baton</th>\n",
       "      <th>pf_hcuff</th>\n",
       "      <th>pf_pepsp</th>\n",
       "      <th>pf_other</th>\n",
       "      <th>radio</th>\n",
       "      <th>ac_rept</th>\n",
       "      <th>ac_inves</th>\n",
       "      <th>rf_vcrim</th>\n",
       "      <th>rf_othsw</th>\n",
       "      <th>ac_proxm</th>\n",
       "      <th>rf_attir</th>\n",
       "      <th>cs_objcs</th>\n",
       "      <th>cs_descr</th>\n",
       "      <th>cs_casng</th>\n",
       "      <th>cs_lkout</th>\n",
       "      <th>rf_vcact</th>\n",
       "      <th>cs_cloth</th>\n",
       "      <th>cs_drgtr</th>\n",
       "      <th>ac_evasv</th>\n",
       "      <th>ac_assoc</th>\n",
       "      <th>cs_furtv</th>\n",
       "      <th>rf_rfcmp</th>\n",
       "      <th>ac_cgdir</th>\n",
       "      <th>rf_verbl</th>\n",
       "      <th>cs_vcrim</th>\n",
       "      <th>cs_bulge</th>\n",
       "      <th>cs_other</th>\n",
       "      <th>ac_incid</th>\n",
       "      <th>ac_time</th>\n",
       "      <th>rf_knowl</th>\n",
       "      <th>ac_stsnd</th>\n",
       "      <th>ac_other</th>\n",
       "      <th>sb_hdobj</th>\n",
       "      <th>sb_outln</th>\n",
       "      <th>sb_admis</th>\n",
       "      <th>sb_other</th>\n",
       "      <th>repcmd</th>\n",
       "      <th>revcmd</th>\n",
       "      <th>rf_furt</th>\n",
       "      <th>rf_bulg</th>\n",
       "      <th>offverb</th>\n",
       "      <th>offshld</th>\n",
       "      <th>sex</th>\n",
       "      <th>race</th>\n",
       "      <th>dob</th>\n",
       "      <th>age</th>\n",
       "      <th>ht_feet</th>\n",
       "      <th>ht_inch</th>\n",
       "      <th>weight</th>\n",
       "      <th>haircolr</th>\n",
       "      <th>eyecolor</th>\n",
       "      <th>build</th>\n",
       "      <th>othfeatr</th>\n",
       "      <th>addrtyp</th>\n",
       "      <th>rescode</th>\n",
       "      <th>premtype</th>\n",
       "      <th>premname</th>\n",
       "      <th>addrnum</th>\n",
       "      <th>stname</th>\n",
       "      <th>stinter</th>\n",
       "      <th>crossst</th>\n",
       "      <th>aptnum</th>\n",
       "      <th>city</th>\n",
       "      <th>state</th>\n",
       "      <th>zip</th>\n",
       "      <th>addrpct</th>\n",
       "      <th>sector</th>\n",
       "      <th>beat</th>\n",
       "      <th>post</th>\n",
       "      <th>xcoord</th>\n",
       "      <th>ycoord</th>\n",
       "      <th>dettypcm</th>\n",
       "      <th>linecm</th>\n",
       "      <th>detailcm</th>\n",
       "      <th>hour</th>\n",
       "      <th>minute</th>\n",
       "      <th>dayofyear</th>\n",
       "      <th>month</th>\n",
       "      <th>dayofweek</th>\n",
       "      <th>weekofyear</th>\n",
       "    </tr>\n",
       "  </thead>\n",
       "  <tbody>\n",
       "    <tr>\n",
       "      <th>0</th>\n",
       "      <td>2003</td>\n",
       "      <td>70</td>\n",
       "      <td>5</td>\n",
       "      <td>2003-01-01</td>\n",
       "      <td></td>\n",
       "      <td>O</td>\n",
       "      <td></td>\n",
       "      <td>1</td>\n",
       "      <td>ROBBERY</td>\n",
       "      <td>2</td>\n",
       "      <td>V</td>\n",
       "      <td>Y</td>\n",
       "      <td>Y</td>\n",
       "      <td>N</td>\n",
       "      <td></td>\n",
       "      <td>N</td>\n",
       "      <td></td>\n",
       "      <td>0</td>\n",
       "      <td>0</td>\n",
       "      <td>Y</td>\n",
       "      <td></td>\n",
       "      <td>Y</td>\n",
       "      <td>N</td>\n",
       "      <td>N</td>\n",
       "      <td>N</td>\n",
       "      <td>N</td>\n",
       "      <td>N</td>\n",
       "      <td>N</td>\n",
       "      <td>N</td>\n",
       "      <td>N</td>\n",
       "      <td>N</td>\n",
       "      <td>N</td>\n",
       "      <td>N</td>\n",
       "      <td>N</td>\n",
       "      <td>N</td>\n",
       "      <td>N</td>\n",
       "      <td>N</td>\n",
       "      <td>N</td>\n",
       "      <td>N</td>\n",
       "      <td>N</td>\n",
       "      <td>N</td>\n",
       "      <td>N</td>\n",
       "      <td>N</td>\n",
       "      <td>Y</td>\n",
       "      <td>N</td>\n",
       "      <td>Y</td>\n",
       "      <td>N</td>\n",
       "      <td>N</td>\n",
       "      <td>N</td>\n",
       "      <td>N</td>\n",
       "      <td>N</td>\n",
       "      <td>N</td>\n",
       "      <td>N</td>\n",
       "      <td>N</td>\n",
       "      <td>N</td>\n",
       "      <td>N</td>\n",
       "      <td>Y</td>\n",
       "      <td>N</td>\n",
       "      <td>Y</td>\n",
       "      <td>N</td>\n",
       "      <td>N</td>\n",
       "      <td>N</td>\n",
       "      <td>Y</td>\n",
       "      <td>N</td>\n",
       "      <td>N</td>\n",
       "      <td>N</td>\n",
       "      <td>N</td>\n",
       "      <td>N</td>\n",
       "      <td>N</td>\n",
       "      <td>N</td>\n",
       "      <td>N</td>\n",
       "      <td>N</td>\n",
       "      <td>071</td>\n",
       "      <td>071</td>\n",
       "      <td>Y</td>\n",
       "      <td>N</td>\n",
       "      <td></td>\n",
       "      <td></td>\n",
       "      <td>M</td>\n",
       "      <td>B</td>\n",
       "      <td>07291986</td>\n",
       "      <td>16</td>\n",
       "      <td>5</td>\n",
       "      <td>9</td>\n",
       "      <td>160</td>\n",
       "      <td>BK</td>\n",
       "      <td>BR</td>\n",
       "      <td>M</td>\n",
       "      <td></td>\n",
       "      <td>L</td>\n",
       "      <td></td>\n",
       "      <td></td>\n",
       "      <td></td>\n",
       "      <td>240</td>\n",
       "      <td>CROWN ST.</td>\n",
       "      <td></td>\n",
       "      <td></td>\n",
       "      <td></td>\n",
       "      <td></td>\n",
       "      <td></td>\n",
       "      <td></td>\n",
       "      <td></td>\n",
       "      <td></td>\n",
       "      <td></td>\n",
       "      <td></td>\n",
       "      <td></td>\n",
       "      <td></td>\n",
       "      <td></td>\n",
       "      <td></td>\n",
       "      <td></td>\n",
       "      <td>3</td>\n",
       "      <td>0</td>\n",
       "      <td>1</td>\n",
       "      <td>1</td>\n",
       "      <td>2</td>\n",
       "      <td>1</td>\n",
       "    </tr>\n",
       "    <tr>\n",
       "      <th>1</th>\n",
       "      <td>2003</td>\n",
       "      <td>70</td>\n",
       "      <td>3</td>\n",
       "      <td>2003-01-01</td>\n",
       "      <td></td>\n",
       "      <td>O</td>\n",
       "      <td></td>\n",
       "      <td>1</td>\n",
       "      <td>ROBBERY</td>\n",
       "      <td>3</td>\n",
       "      <td>V</td>\n",
       "      <td>Y</td>\n",
       "      <td>Y</td>\n",
       "      <td>N</td>\n",
       "      <td></td>\n",
       "      <td>N</td>\n",
       "      <td></td>\n",
       "      <td>0</td>\n",
       "      <td>0</td>\n",
       "      <td>Y</td>\n",
       "      <td></td>\n",
       "      <td>Y</td>\n",
       "      <td>N</td>\n",
       "      <td>N</td>\n",
       "      <td>N</td>\n",
       "      <td>N</td>\n",
       "      <td>N</td>\n",
       "      <td>N</td>\n",
       "      <td>N</td>\n",
       "      <td>N</td>\n",
       "      <td>N</td>\n",
       "      <td>N</td>\n",
       "      <td>N</td>\n",
       "      <td>N</td>\n",
       "      <td>N</td>\n",
       "      <td>N</td>\n",
       "      <td>N</td>\n",
       "      <td>N</td>\n",
       "      <td>N</td>\n",
       "      <td>N</td>\n",
       "      <td>Y</td>\n",
       "      <td>N</td>\n",
       "      <td>N</td>\n",
       "      <td>Y</td>\n",
       "      <td>N</td>\n",
       "      <td>Y</td>\n",
       "      <td>N</td>\n",
       "      <td>N</td>\n",
       "      <td>Y</td>\n",
       "      <td>N</td>\n",
       "      <td>N</td>\n",
       "      <td>N</td>\n",
       "      <td>N</td>\n",
       "      <td>N</td>\n",
       "      <td>N</td>\n",
       "      <td>N</td>\n",
       "      <td>Y</td>\n",
       "      <td>N</td>\n",
       "      <td>N</td>\n",
       "      <td>N</td>\n",
       "      <td>N</td>\n",
       "      <td>N</td>\n",
       "      <td>N</td>\n",
       "      <td>N</td>\n",
       "      <td>N</td>\n",
       "      <td>N</td>\n",
       "      <td>N</td>\n",
       "      <td>N</td>\n",
       "      <td>N</td>\n",
       "      <td>N</td>\n",
       "      <td>N</td>\n",
       "      <td>N</td>\n",
       "      <td>071</td>\n",
       "      <td>071</td>\n",
       "      <td>N</td>\n",
       "      <td>N</td>\n",
       "      <td></td>\n",
       "      <td></td>\n",
       "      <td>M</td>\n",
       "      <td>B</td>\n",
       "      <td>10151988</td>\n",
       "      <td>15</td>\n",
       "      <td>5</td>\n",
       "      <td>8</td>\n",
       "      <td>150</td>\n",
       "      <td>BK</td>\n",
       "      <td>ZZ</td>\n",
       "      <td>M</td>\n",
       "      <td></td>\n",
       "      <td>L</td>\n",
       "      <td></td>\n",
       "      <td></td>\n",
       "      <td>SIDEWALK</td>\n",
       "      <td>240</td>\n",
       "      <td>CROWN ST  (F/O)</td>\n",
       "      <td></td>\n",
       "      <td></td>\n",
       "      <td></td>\n",
       "      <td></td>\n",
       "      <td></td>\n",
       "      <td></td>\n",
       "      <td></td>\n",
       "      <td></td>\n",
       "      <td></td>\n",
       "      <td></td>\n",
       "      <td></td>\n",
       "      <td></td>\n",
       "      <td></td>\n",
       "      <td></td>\n",
       "      <td></td>\n",
       "      <td>3</td>\n",
       "      <td>0</td>\n",
       "      <td>1</td>\n",
       "      <td>1</td>\n",
       "      <td>2</td>\n",
       "      <td>1</td>\n",
       "    </tr>\n",
       "    <tr>\n",
       "      <th>2</th>\n",
       "      <td>2003</td>\n",
       "      <td>68</td>\n",
       "      <td>1406</td>\n",
       "      <td>2003-01-01</td>\n",
       "      <td></td>\n",
       "      <td>I</td>\n",
       "      <td></td>\n",
       "      <td>1</td>\n",
       "      <td>CPW</td>\n",
       "      <td>5</td>\n",
       "      <td>V</td>\n",
       "      <td>Y</td>\n",
       "      <td>Y</td>\n",
       "      <td>N</td>\n",
       "      <td></td>\n",
       "      <td>N</td>\n",
       "      <td></td>\n",
       "      <td>0</td>\n",
       "      <td>0</td>\n",
       "      <td>Y</td>\n",
       "      <td></td>\n",
       "      <td>Y</td>\n",
       "      <td>N</td>\n",
       "      <td>N</td>\n",
       "      <td>N</td>\n",
       "      <td>N</td>\n",
       "      <td>N</td>\n",
       "      <td>N</td>\n",
       "      <td>N</td>\n",
       "      <td>N</td>\n",
       "      <td>N</td>\n",
       "      <td>N</td>\n",
       "      <td>N</td>\n",
       "      <td>N</td>\n",
       "      <td>N</td>\n",
       "      <td>N</td>\n",
       "      <td>N</td>\n",
       "      <td>N</td>\n",
       "      <td>N</td>\n",
       "      <td>N</td>\n",
       "      <td>N</td>\n",
       "      <td>Y</td>\n",
       "      <td>N</td>\n",
       "      <td>N</td>\n",
       "      <td>Y</td>\n",
       "      <td>N</td>\n",
       "      <td>N</td>\n",
       "      <td>N</td>\n",
       "      <td>Y</td>\n",
       "      <td>N</td>\n",
       "      <td>N</td>\n",
       "      <td>N</td>\n",
       "      <td>N</td>\n",
       "      <td>N</td>\n",
       "      <td>N</td>\n",
       "      <td>N</td>\n",
       "      <td>Y</td>\n",
       "      <td>N</td>\n",
       "      <td>N</td>\n",
       "      <td>N</td>\n",
       "      <td>N</td>\n",
       "      <td>N</td>\n",
       "      <td>N</td>\n",
       "      <td>N</td>\n",
       "      <td>N</td>\n",
       "      <td>N</td>\n",
       "      <td>N</td>\n",
       "      <td>N</td>\n",
       "      <td>N</td>\n",
       "      <td>N</td>\n",
       "      <td>N</td>\n",
       "      <td>N</td>\n",
       "      <td>071</td>\n",
       "      <td>071</td>\n",
       "      <td>N</td>\n",
       "      <td>N</td>\n",
       "      <td></td>\n",
       "      <td></td>\n",
       "      <td>M</td>\n",
       "      <td>Q</td>\n",
       "      <td>08271963</td>\n",
       "      <td>39</td>\n",
       "      <td>5</td>\n",
       "      <td>6</td>\n",
       "      <td>180</td>\n",
       "      <td>BK</td>\n",
       "      <td>BR</td>\n",
       "      <td>M</td>\n",
       "      <td></td>\n",
       "      <td>L</td>\n",
       "      <td></td>\n",
       "      <td></td>\n",
       "      <td>BASEMNT</td>\n",
       "      <td>NaN</td>\n",
       "      <td>270   CLOWN   ST</td>\n",
       "      <td></td>\n",
       "      <td></td>\n",
       "      <td></td>\n",
       "      <td></td>\n",
       "      <td></td>\n",
       "      <td></td>\n",
       "      <td></td>\n",
       "      <td></td>\n",
       "      <td></td>\n",
       "      <td></td>\n",
       "      <td></td>\n",
       "      <td></td>\n",
       "      <td></td>\n",
       "      <td></td>\n",
       "      <td></td>\n",
       "      <td>3</td>\n",
       "      <td>0</td>\n",
       "      <td>1</td>\n",
       "      <td>1</td>\n",
       "      <td>2</td>\n",
       "      <td>1</td>\n",
       "    </tr>\n",
       "    <tr>\n",
       "      <th>3</th>\n",
       "      <td>2003</td>\n",
       "      <td>48</td>\n",
       "      <td>4</td>\n",
       "      <td>2003-01-01</td>\n",
       "      <td></td>\n",
       "      <td>I</td>\n",
       "      <td></td>\n",
       "      <td>1</td>\n",
       "      <td>BURGLARY</td>\n",
       "      <td>10</td>\n",
       "      <td>R</td>\n",
       "      <td>Y</td>\n",
       "      <td>Y</td>\n",
       "      <td>N</td>\n",
       "      <td></td>\n",
       "      <td>N</td>\n",
       "      <td></td>\n",
       "      <td>0</td>\n",
       "      <td>0</td>\n",
       "      <td>N</td>\n",
       "      <td></td>\n",
       "      <td>N</td>\n",
       "      <td>N</td>\n",
       "      <td>N</td>\n",
       "      <td>N</td>\n",
       "      <td>N</td>\n",
       "      <td>N</td>\n",
       "      <td>N</td>\n",
       "      <td>N</td>\n",
       "      <td>N</td>\n",
       "      <td>N</td>\n",
       "      <td>N</td>\n",
       "      <td>N</td>\n",
       "      <td>N</td>\n",
       "      <td>N</td>\n",
       "      <td>N</td>\n",
       "      <td>N</td>\n",
       "      <td>N</td>\n",
       "      <td>N</td>\n",
       "      <td>N</td>\n",
       "      <td>N</td>\n",
       "      <td>N</td>\n",
       "      <td>N</td>\n",
       "      <td>N</td>\n",
       "      <td>N</td>\n",
       "      <td>Y</td>\n",
       "      <td>N</td>\n",
       "      <td>N</td>\n",
       "      <td>Y</td>\n",
       "      <td>N</td>\n",
       "      <td>N</td>\n",
       "      <td>N</td>\n",
       "      <td>N</td>\n",
       "      <td>N</td>\n",
       "      <td>N</td>\n",
       "      <td>N</td>\n",
       "      <td>N</td>\n",
       "      <td>N</td>\n",
       "      <td>N</td>\n",
       "      <td>N</td>\n",
       "      <td>N</td>\n",
       "      <td>N</td>\n",
       "      <td>N</td>\n",
       "      <td>N</td>\n",
       "      <td>N</td>\n",
       "      <td>N</td>\n",
       "      <td>N</td>\n",
       "      <td>Y</td>\n",
       "      <td>N</td>\n",
       "      <td>N</td>\n",
       "      <td>N</td>\n",
       "      <td>N</td>\n",
       "      <td>049</td>\n",
       "      <td>049</td>\n",
       "      <td>N</td>\n",
       "      <td>N</td>\n",
       "      <td>V</td>\n",
       "      <td>S</td>\n",
       "      <td>F</td>\n",
       "      <td>Q</td>\n",
       "      <td>12311900</td>\n",
       "      <td>20</td>\n",
       "      <td>5</td>\n",
       "      <td>6</td>\n",
       "      <td>0</td>\n",
       "      <td>BK</td>\n",
       "      <td>XX</td>\n",
       "      <td>Z</td>\n",
       "      <td></td>\n",
       "      <td>L</td>\n",
       "      <td></td>\n",
       "      <td></td>\n",
       "      <td>BUILDING</td>\n",
       "      <td>2125</td>\n",
       "      <td>CRUJES AVE</td>\n",
       "      <td></td>\n",
       "      <td></td>\n",
       "      <td></td>\n",
       "      <td></td>\n",
       "      <td></td>\n",
       "      <td></td>\n",
       "      <td></td>\n",
       "      <td></td>\n",
       "      <td></td>\n",
       "      <td></td>\n",
       "      <td></td>\n",
       "      <td></td>\n",
       "      <td></td>\n",
       "      <td></td>\n",
       "      <td></td>\n",
       "      <td>16</td>\n",
       "      <td>0</td>\n",
       "      <td>1</td>\n",
       "      <td>1</td>\n",
       "      <td>2</td>\n",
       "      <td>1</td>\n",
       "    </tr>\n",
       "    <tr>\n",
       "      <th>4</th>\n",
       "      <td>2003</td>\n",
       "      <td>48</td>\n",
       "      <td>999991</td>\n",
       "      <td>2003-01-02</td>\n",
       "      <td></td>\n",
       "      <td>O</td>\n",
       "      <td></td>\n",
       "      <td>30</td>\n",
       "      <td>ROBBERY</td>\n",
       "      <td>10</td>\n",
       "      <td>P</td>\n",
       "      <td>Y</td>\n",
       "      <td>N</td>\n",
       "      <td>N</td>\n",
       "      <td></td>\n",
       "      <td>N</td>\n",
       "      <td></td>\n",
       "      <td>0</td>\n",
       "      <td>0</td>\n",
       "      <td>Y</td>\n",
       "      <td></td>\n",
       "      <td>Y</td>\n",
       "      <td>N</td>\n",
       "      <td>N</td>\n",
       "      <td>N</td>\n",
       "      <td>N</td>\n",
       "      <td>N</td>\n",
       "      <td>N</td>\n",
       "      <td>N</td>\n",
       "      <td>N</td>\n",
       "      <td>N</td>\n",
       "      <td>Y</td>\n",
       "      <td>Y</td>\n",
       "      <td>N</td>\n",
       "      <td>N</td>\n",
       "      <td>N</td>\n",
       "      <td>N</td>\n",
       "      <td>Y</td>\n",
       "      <td>N</td>\n",
       "      <td>N</td>\n",
       "      <td>N</td>\n",
       "      <td>N</td>\n",
       "      <td>N</td>\n",
       "      <td>N</td>\n",
       "      <td>Y</td>\n",
       "      <td>N</td>\n",
       "      <td>N</td>\n",
       "      <td>N</td>\n",
       "      <td>Y</td>\n",
       "      <td>N</td>\n",
       "      <td>N</td>\n",
       "      <td>N</td>\n",
       "      <td>N</td>\n",
       "      <td>N</td>\n",
       "      <td>N</td>\n",
       "      <td>N</td>\n",
       "      <td>N</td>\n",
       "      <td>N</td>\n",
       "      <td>N</td>\n",
       "      <td>N</td>\n",
       "      <td>N</td>\n",
       "      <td>N</td>\n",
       "      <td>N</td>\n",
       "      <td>N</td>\n",
       "      <td>N</td>\n",
       "      <td>N</td>\n",
       "      <td>N</td>\n",
       "      <td>N</td>\n",
       "      <td>N</td>\n",
       "      <td>N</td>\n",
       "      <td>N</td>\n",
       "      <td>N</td>\n",
       "      <td>048</td>\n",
       "      <td>319</td>\n",
       "      <td>N</td>\n",
       "      <td>N</td>\n",
       "      <td></td>\n",
       "      <td></td>\n",
       "      <td>M</td>\n",
       "      <td>B</td>\n",
       "      <td>06081983</td>\n",
       "      <td>19</td>\n",
       "      <td>6</td>\n",
       "      <td>0</td>\n",
       "      <td>155</td>\n",
       "      <td>BK</td>\n",
       "      <td>BK</td>\n",
       "      <td>T</td>\n",
       "      <td></td>\n",
       "      <td>L</td>\n",
       "      <td></td>\n",
       "      <td></td>\n",
       "      <td>STREET</td>\n",
       "      <td>NaN</td>\n",
       "      <td>I/O WHITE PLAINS RD &amp; ALLERTON</td>\n",
       "      <td></td>\n",
       "      <td></td>\n",
       "      <td></td>\n",
       "      <td></td>\n",
       "      <td></td>\n",
       "      <td></td>\n",
       "      <td></td>\n",
       "      <td></td>\n",
       "      <td></td>\n",
       "      <td></td>\n",
       "      <td></td>\n",
       "      <td></td>\n",
       "      <td></td>\n",
       "      <td></td>\n",
       "      <td></td>\n",
       "      <td>3</td>\n",
       "      <td>35</td>\n",
       "      <td>2</td>\n",
       "      <td>1</td>\n",
       "      <td>3</td>\n",
       "      <td>1</td>\n",
       "    </tr>\n",
       "  </tbody>\n",
       "</table>\n",
       "</div>"
      ],
      "text/plain": [
       "   year  pct  ser_num   datestop recstat inout trhsloc  perobs  crimsusp  \\\n",
       "0  2003   70        5 2003-01-01             O               1   ROBBERY   \n",
       "1  2003   70        3 2003-01-01             O               1   ROBBERY   \n",
       "2  2003   68     1406 2003-01-01             I               1       CPW   \n",
       "3  2003   48        4 2003-01-01             I               1  BURGLARY   \n",
       "4  2003   48   999991 2003-01-02             O              30   ROBBERY   \n",
       "\n",
       "   perstop typeofid explnstp othpers arstmade arstoffn sumissue sumoffen  \\\n",
       "0        2        V        Y       Y        N                 N            \n",
       "1        3        V        Y       Y        N                 N            \n",
       "2        5        V        Y       Y        N                 N            \n",
       "3       10        R        Y       Y        N                 N            \n",
       "4       10        P        Y       N        N                 N            \n",
       "\n",
       "   compyear  comppct offunif officrid frisked searched contrabn adtlrept  \\\n",
       "0         0        0       Y                Y        N        N        N   \n",
       "1         0        0       Y                Y        N        N        N   \n",
       "2         0        0       Y                Y        N        N        N   \n",
       "3         0        0       N                N        N        N        N   \n",
       "4         0        0       Y                Y        N        N        N   \n",
       "\n",
       "  pistol riflshot asltweap knifcuti machgun othrweap pf_hands pf_wall pf_grnd  \\\n",
       "0      N        N        N        N       N        N        N       N       N   \n",
       "1      N        N        N        N       N        N        N       N       N   \n",
       "2      N        N        N        N       N        N        N       N       N   \n",
       "3      N        N        N        N       N        N        N       N       N   \n",
       "4      N        N        N        N       N        N        Y       Y       N   \n",
       "\n",
       "  pf_drwep pf_ptwep pf_baton pf_hcuff pf_pepsp pf_other radio ac_rept  \\\n",
       "0        N        N        N        N        N        N     N       N   \n",
       "1        N        N        N        N        N        N     Y       N   \n",
       "2        N        N        N        N        N        N     N       Y   \n",
       "3        N        N        N        N        N        N     N       N   \n",
       "4        N        N        N        Y        N        N     N       N   \n",
       "\n",
       "  ac_inves rf_vcrim rf_othsw ac_proxm rf_attir cs_objcs cs_descr cs_casng  \\\n",
       "0        N        Y        N        Y        N        N        N        N   \n",
       "1        N        Y        N        Y        N        N        Y        N   \n",
       "2        N        N        Y        N        N        N        Y        N   \n",
       "3        N        N        N        Y        N        N        Y        N   \n",
       "4        N        N        Y        N        N        N        Y        N   \n",
       "\n",
       "  cs_lkout rf_vcact cs_cloth cs_drgtr ac_evasv ac_assoc cs_furtv rf_rfcmp  \\\n",
       "0        N        N        N        N        N        N        Y        N   \n",
       "1        N        N        N        N        N        N        Y        N   \n",
       "2        N        N        N        N        N        N        Y        N   \n",
       "3        N        N        N        N        N        N        N        N   \n",
       "4        N        N        N        N        N        N        N        N   \n",
       "\n",
       "  ac_cgdir rf_verbl cs_vcrim cs_bulge cs_other ac_incid ac_time rf_knowl  \\\n",
       "0        Y        N        N        N        Y        N       N        N   \n",
       "1        N        N        N        N        N        N       N        N   \n",
       "2        N        N        N        N        N        N       N        N   \n",
       "3        N        N        N        N        N        N       N        N   \n",
       "4        N        N        N        N        N        N       N        N   \n",
       "\n",
       "  ac_stsnd ac_other sb_hdobj sb_outln sb_admis sb_other repcmd revcmd rf_furt  \\\n",
       "0        N        N        N        N        N        N    071    071       Y   \n",
       "1        N        N        N        N        N        N    071    071       N   \n",
       "2        N        N        N        N        N        N    071    071       N   \n",
       "3        N        Y        N        N        N        N    049    049       N   \n",
       "4        N        N        N        N        N        N    048    319       N   \n",
       "\n",
       "  rf_bulg offverb offshld sex race       dob age ht_feet ht_inch weight  \\\n",
       "0       N                   M    B  07291986  16       5       9    160   \n",
       "1       N                   M    B  10151988  15       5       8    150   \n",
       "2       N                   M    Q  08271963  39       5       6    180   \n",
       "3       N       V       S   F    Q  12311900  20       5       6      0   \n",
       "4       N                   M    B  06081983  19       6       0    155   \n",
       "\n",
       "  haircolr eyecolor build othfeatr addrtyp rescode premtype  premname addrnum  \\\n",
       "0       BK       BR     M                L                                240   \n",
       "1       BK       ZZ     M                L                   SIDEWALK     240   \n",
       "2       BK       BR     M                L                    BASEMNT     NaN   \n",
       "3       BK       XX     Z                L                   BUILDING    2125   \n",
       "4       BK       BK     T                L                     STREET     NaN   \n",
       "\n",
       "                           stname stinter crossst aptnum city state zip  \\\n",
       "0                       CROWN ST.                                         \n",
       "1                 CROWN ST  (F/O)                                         \n",
       "2                270   CLOWN   ST                                         \n",
       "3                      CRUJES AVE                                         \n",
       "4  I/O WHITE PLAINS RD & ALLERTON                                         \n",
       "\n",
       "  addrpct sector beat post xcoord ycoord dettypcm linecm detailcm  hour  \\\n",
       "0                                                                     3   \n",
       "1                                                                     3   \n",
       "2                                                                     3   \n",
       "3                                                                    16   \n",
       "4                                                                     3   \n",
       "\n",
       "   minute  dayofyear  month  dayofweek  weekofyear  \n",
       "0       0          1      1          2           1  \n",
       "1       0          1      1          2           1  \n",
       "2       0          1      1          2           1  \n",
       "3       0          1      1          2           1  \n",
       "4      35          2      1          3           1  "
      ]
     },
     "execution_count": 11,
     "metadata": {},
     "output_type": "execute_result"
    }
   ],
   "source": [
    "df.head()"
   ]
  },
  {
   "cell_type": "code",
   "execution_count": 12,
   "metadata": {
    "collapsed": false
   },
   "outputs": [],
   "source": [
    "hourly_counts = df.groupby([\"hour\"]).size()#.agg([\"mean\", \"sum\"])\n",
    "hours = hourly_counts.index\n",
    "counts = hourly_counts"
   ]
  },
  {
   "cell_type": "code",
   "execution_count": 13,
   "metadata": {
    "collapsed": false
   },
   "outputs": [
    {
     "data": {
      "image/png": "[encoded data removed]",
      "text/plain": [
       "<matplotlib.figure.Figure at 0x7fdf34f32cf8>"
      ]
     },
     "metadata": {},
     "output_type": "display_data"
    }
   ],
   "source": [
    "plt.bar(hours, counts)\n",
    "plt.title(\"Distribution of Stops\")\n",
    "plt.xlabel(\"Hour of the Day\")\n",
    "plt.ylabel(\"Count\")\n",
    "plt.xlim([0,24])\n",
    "plt.xticks([0,4,8,12,16,20,24])\n",
    "plt.show()"
   ]
  },
  {
   "cell_type": "code",
   "execution_count": 14,
   "metadata": {
    "collapsed": false
   },
   "outputs": [],
   "source": [
    "dailyCounts = df.groupby([\"dayofyear\"]).size()\n",
    "days = dailyCounts.index\n",
    "d_counts = dailyCounts"
   ]
  },
  {
   "cell_type": "code",
   "execution_count": 15,
   "metadata": {
    "collapsed": false
   },
   "outputs": [
    {
     "data": {
      "image/png": "[encoded data removed]",
      "text/plain": [
       "<matplotlib.figure.Figure at 0x7fdf34211940>"
      ]
     },
     "metadata": {},
     "output_type": "display_data"
    }
   ],
   "source": [
    "plt.figure(figsize=(18,5))\n",
    "plt.bar(days, d_counts)\n",
    "plt.title(\"Distribution of Stops\")\n",
    "plt.xlabel(\"Day of the Year\")\n",
    "plt.xlim([0,360])\n",
    "plt.ylabel(\"Count\")\n",
    "\n",
    "plt.show()"
   ]
  },
  {
   "cell_type": "code",
   "execution_count": 21,
   "metadata": {
    "collapsed": false
   },
   "outputs": [
    {
     "data": {
      "text/html": [
       "<div>\n",
       "<table border=\"1\" class=\"dataframe\">\n",
       "  <thead>\n",
       "    <tr style=\"text-align: right;\">\n",
       "      <th></th>\n",
       "      <th>count</th>\n",
       "      <th>day</th>\n",
       "    </tr>\n",
       "    <tr>\n",
       "      <th>dayofyear</th>\n",
       "      <th></th>\n",
       "      <th></th>\n",
       "    </tr>\n",
       "  </thead>\n",
       "  <tbody>\n",
       "    <tr>\n",
       "      <th>1</th>\n",
       "      <td>273</td>\n",
       "      <td>1</td>\n",
       "    </tr>\n",
       "    <tr>\n",
       "      <th>2</th>\n",
       "      <td>420</td>\n",
       "      <td>2</td>\n",
       "    </tr>\n",
       "    <tr>\n",
       "      <th>3</th>\n",
       "      <td>456</td>\n",
       "      <td>3</td>\n",
       "    </tr>\n",
       "    <tr>\n",
       "      <th>4</th>\n",
       "      <td>411</td>\n",
       "      <td>4</td>\n",
       "    </tr>\n",
       "    <tr>\n",
       "      <th>5</th>\n",
       "      <td>291</td>\n",
       "      <td>5</td>\n",
       "    </tr>\n",
       "  </tbody>\n",
       "</table>\n",
       "</div>"
      ],
      "text/plain": [
       "           count  day\n",
       "dayofyear            \n",
       "1            273    1\n",
       "2            420    2\n",
       "3            456    3\n",
       "4            411    4\n",
       "5            291    5"
      ]
     },
     "execution_count": 21,
     "metadata": {},
     "output_type": "execute_result"
    }
   ],
   "source": [
    "dat = {\"day\": days, \"count\": d_counts}\n",
    "dfDailyCounts = pd.DataFrame(dat)\n",
    "dfDailyCounts.head()"
   ]
  },
  {
   "cell_type": "code",
   "execution_count": 20,
   "metadata": {
    "collapsed": false
   },
   "outputs": [
    {
     "data": {
      "text/html": [
       "<div>\n",
       "<table border=\"1\" class=\"dataframe\">\n",
       "  <thead>\n",
       "    <tr style=\"text-align: right;\">\n",
       "      <th></th>\n",
       "      <th>timepoint</th>\n",
       "      <th>ROI</th>\n",
       "      <th>subject</th>\n",
       "      <th>BOLD signal</th>\n",
       "    </tr>\n",
       "  </thead>\n",
       "  <tbody>\n",
       "    <tr>\n",
       "      <th>0</th>\n",
       "      <td>0</td>\n",
       "      <td>IPS</td>\n",
       "      <td>0</td>\n",
       "      <td>0.513433</td>\n",
       "    </tr>\n",
       "    <tr>\n",
       "      <th>1</th>\n",
       "      <td>0</td>\n",
       "      <td>IPS</td>\n",
       "      <td>1</td>\n",
       "      <td>-0.414368</td>\n",
       "    </tr>\n",
       "    <tr>\n",
       "      <th>2</th>\n",
       "      <td>0</td>\n",
       "      <td>IPS</td>\n",
       "      <td>2</td>\n",
       "      <td>0.214695</td>\n",
       "    </tr>\n",
       "    <tr>\n",
       "      <th>3</th>\n",
       "      <td>0</td>\n",
       "      <td>IPS</td>\n",
       "      <td>3</td>\n",
       "      <td>0.814809</td>\n",
       "    </tr>\n",
       "    <tr>\n",
       "      <th>4</th>\n",
       "      <td>0</td>\n",
       "      <td>IPS</td>\n",
       "      <td>4</td>\n",
       "      <td>-0.894992</td>\n",
       "    </tr>\n",
       "  </tbody>\n",
       "</table>\n",
       "</div>"
      ],
      "text/plain": [
       "   timepoint  ROI  subject  BOLD signal\n",
       "0          0  IPS        0     0.513433\n",
       "1          0  IPS        1    -0.414368\n",
       "2          0  IPS        2     0.214695\n",
       "3          0  IPS        3     0.814809\n",
       "4          0  IPS        4    -0.894992"
      ]
     },
     "execution_count": 20,
     "metadata": {},
     "output_type": "execute_result"
    }
   ],
   "source": [
    "gammas = sns.load_dataset(\"gammas\")\n",
    "gammas.head()"
   ]
  },
  {
   "cell_type": "code",
   "execution_count": 24,
   "metadata": {
    "collapsed": false
   },
   "outputs": [
    {
     "data": {
      "text/plain": [
       "[<matplotlib.lines.Line2D at 0x7fdf342d03c8>]"
      ]
     },
     "execution_count": 24,
     "metadata": {},
     "output_type": "execute_result"
    },
    {
     "data": {
      "image/png": "[encoded data removed]",
      "text/plain": [
       "<matplotlib.figure.Figure at 0x7fdf343809e8>"
      ]
     },
     "metadata": {},
     "output_type": "display_data"
    }
   ],
   "source": [
    "plt.plot(dfDailyCounts[\"day\"], dfDailyCounts[\"count\"])"
   ]
  },
  {
   "cell_type": "code",
   "execution_count": 56,
   "metadata": {
    "collapsed": false
   },
   "outputs": [
    {
     "data": {
      "text/plain": [
       "<matplotlib.legend.Legend at 0x7fdf34dd9048>"
      ]
     },
     "execution_count": 56,
     "metadata": {},
     "output_type": "execute_result"
    },
    {
     "data": {
      "image/png": "[encoded data removed]",
      "text/plain": [
       "<matplotlib.figure.Figure at 0x7fdf33042f60>"
      ]
     },
     "metadata": {},
     "output_type": "display_data"
    }
   ],
   "source": [
    "plt.figure(figsize=(15, 5))\n",
    "rolmean7 = pd.rolling_mean(dfDailyCounts[\"count\"], window=7)\n",
    "rolmean30 = pd.rolling_mean(dfDailyCounts[\"count\"], window=30)\n",
    "\n",
    "rolstd = pd.rolling_std(dfDailyCounts[\"count\"], window=7)\n",
    "plt.plot(dfDailyCounts[\"day\"], dfDailyCounts[\"count\"], alpha=0.5)\n",
    "plt.plot(rolmean30, label='30-Day Rolling')\n",
    "plt.plot(rolmean7, label='7-Day Rolling')\n",
    "# plt.plot(rolstd,)\n",
    "plt.xlim(-5,370)\n",
    "plt.ylim(75, 850)\n",
    "plt.xlabel()\n",
    "plt.legend()"
   ]
  },
  {
   "cell_type": "code",
   "execution_count": 152,
   "metadata": {
    "collapsed": false
   },
   "outputs": [
    {
     "data": {
      "text/plain": [
       "<matplotlib.text.Text at 0x7f0d9810f748>"
      ]
     },
     "execution_count": 152,
     "metadata": {},
     "output_type": "execute_result"
    },
    {
     "data": {
      "image/png": "[encoded data removed]",
      "text/plain": [
       "<matplotlib.figure.Figure at 0x7f0d9811bf28>"
      ]
     },
     "metadata": {},
     "output_type": "display_data"
    }
   ],
   "source": [
    "d_plot = sns.distplot(d_counts,kde=False,)\n",
    "d_plot.axes.set_title(\"Distribution of Number of Arrests per Day\")"
   ]
  },
  {
   "cell_type": "markdown",
   "metadata": {},
   "source": [
    "### Day of Week"
   ]
  },
  {
   "cell_type": "code",
   "execution_count": 36,
   "metadata": {
    "collapsed": true
   },
   "outputs": [],
   "source": [
    "day_of_week_counts = df.groupby([\"dayofweek\"]).size()\n",
    "day_num = day_of_week_counts.index\n",
    "dw_counts = day_of_week_counts"
   ]
  },
  {
   "cell_type": "code",
   "execution_count": 40,
   "metadata": {
    "collapsed": false
   },
   "outputs": [
    {
     "data": {
      "image/png": "[encoded data removed]",
      "text/plain": [
       "<matplotlib.figure.Figure at 0x7fdf34c83898>"
      ]
     },
     "metadata": {},
     "output_type": "display_data"
    }
   ],
   "source": [
    "plt.figure(figsize=(8, 4))\n",
    "plt.bar(day_num, dw_counts, align='center')\n",
    "plt.title(\"Distribution of Stops\")\n",
    "plt.xlabel(\"Day of the Week\")\n",
    "plt.ylabel(\"Count\")\n",
    "plt.xlim([-1,7])\n",
    "plt.xticks(list(range(0,7)))\n",
    "plt.show()"
   ]
  },
  {
   "cell_type": "markdown",
   "metadata": {},
   "source": [
    "### Week of Year"
   ]
  },
  {
   "cell_type": "code",
   "execution_count": 42,
   "metadata": {
    "collapsed": true
   },
   "outputs": [],
   "source": [
    "week_of_year_counts = df.groupby([\"weekofyear\"]).size()\n",
    "week_num = week_of_year_counts.index\n",
    "week_counts = week_of_year_counts"
   ]
  },
  {
   "cell_type": "code",
   "execution_count": 43,
   "metadata": {
    "collapsed": false
   },
   "outputs": [
    {
     "data": {
      "image/png": "[encoded data removed]",
      "text/plain": [
       "<matplotlib.figure.Figure at 0x7fdf2a1c0ef0>"
      ]
     },
     "metadata": {},
     "output_type": "display_data"
    }
   ],
   "source": [
    "plt.figure(figsize=(15, 5))\n",
    "plt.bar(week_num, week_counts, align='center')\n",
    "plt.title(\"Distribution of Stops\")\n",
    "plt.xlabel(\"Week of the Year\")\n",
    "plt.ylabel(\"Count\")\n",
    "plt.xlim([0,53])\n",
    "plt.xticks(list(range(1,53)))\n",
    "plt.show()"
   ]
  },
  {
   "cell_type": "markdown",
   "metadata": {},
   "source": [
    "### Monthly Counts"
   ]
  },
  {
   "cell_type": "code",
   "execution_count": 44,
   "metadata": {
    "collapsed": false
   },
   "outputs": [],
   "source": [
    "monthly_counts = df.groupby([\"month\"]).size()\n",
    "months = monthly_counts.index\n",
    "m_counts = monthly_counts"
   ]
  },
  {
   "cell_type": "code",
   "execution_count": 45,
   "metadata": {
    "collapsed": false
   },
   "outputs": [
    {
     "data": {
      "image/png": "[encoded data removed]",
      "text/plain": [
       "<matplotlib.figure.Figure at 0x7fdf34ca2128>"
      ]
     },
     "metadata": {},
     "output_type": "display_data"
    }
   ],
   "source": [
    "plt.bar(months, m_counts)\n",
    "plt.title(\"Distribution of Stops\")\n",
    "plt.xlabel(\"Month of the Year\")\n",
    "plt.ylabel(\"Count\")\n",
    "plt.xlim([1,12])\n",
    "plt.xticks(list(range(1,13)))\n",
    "plt.show()"
   ]
  },
  {
   "cell_type": "code",
   "execution_count": 67,
   "metadata": {
    "collapsed": false
   },
   "outputs": [
    {
     "data": {
      "text/plain": [
       "M    138866\n",
       "Z     11848\n",
       "F      9975\n",
       "        162\n",
       "dtype: int64"
      ]
     },
     "execution_count": 67,
     "metadata": {},
     "output_type": "execute_result"
    }
   ],
   "source": [
    "df[\"sex\"].value_counts()"
   ]
  },
  {
   "cell_type": "code",
   "execution_count": 90,
   "metadata": {
    "collapsed": false
   },
   "outputs": [
    {
     "data": {
      "text/plain": [
       "<matplotlib.axes._subplots.AxesSubplot at 0x7f0dc0674f98>"
      ]
     },
     "execution_count": 90,
     "metadata": {},
     "output_type": "execute_result"
    },
    {
     "data": {
      "image/png": "[encoded data removed]",
      "text/plain": [
       "<matplotlib.figure.Figure at 0x7f0dc0656f60>"
      ]
     },
     "metadata": {},
     "output_type": "display_data"
    }
   ],
   "source": [
    "sns.countplot(df[\"sex\"])"
   ]
  },
  {
   "cell_type": "code",
   "execution_count": 181,
   "metadata": {
    "collapsed": false
   },
   "outputs": [
    {
     "name": "stdout",
     "output_type": "stream",
     "text": [
      "B    77704\n",
      "Q    36413\n",
      "W    17623\n",
      "Z    14089\n",
      "P     8168\n",
      "A     4138\n",
      "X     2136\n",
      "I      416\n",
      "       162\n",
      "U        2\n",
      "dtype: int64\n"
     ]
    },
    {
     "data": {
      "text/plain": [
       "<matplotlib.axes._subplots.AxesSubplot at 0x7f0d98108518>"
      ]
     },
     "execution_count": 181,
     "metadata": {},
     "output_type": "execute_result"
    },
    {
     "data": {
      "image/png": "[encoded data removed]",
      "text/plain": [
       "<matplotlib.figure.Figure at 0x7f0d9832a2b0>"
      ]
     },
     "metadata": {},
     "output_type": "display_data"
    }
   ],
   "source": [
    "print(df[\"race\"].value_counts())\n",
    "sns.countplot(df[\"race\"],color=sns.color_palette(\"deep\")[0])"
   ]
  },
  {
   "cell_type": "code",
   "execution_count": null,
   "metadata": {
    "collapsed": true
   },
   "outputs": [],
   "source": []
  }
 ],
 "metadata": {
  "kernelspec": {
   "display_name": "Python 3",
   "language": "python",
   "name": "python3"
  },
  "language_info": {
   "codemirror_mode": {
    "name": "ipython",
    "version": 3
   },
   "file_extension": ".py",
   "mimetype": "text/x-python",
   "name": "python",
   "nbconvert_exporter": "python",
   "pygments_lexer": "ipython3",
   "version": "3.4.3"
  }
 },
 "nbformat": 4,
 "nbformat_minor": 0
}
